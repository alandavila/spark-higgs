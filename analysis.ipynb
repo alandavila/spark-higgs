{
 "cells": [
  {
   "cell_type": "code",
   "execution_count": 1,
   "metadata": {
    "collapsed": true
   },
   "outputs": [],
   "source": [
    "import findspark\n",
    "findspark.init()"
   ]
  },
  {
   "cell_type": "code",
   "execution_count": 2,
   "metadata": {
    "collapsed": true
   },
   "outputs": [],
   "source": [
    "import pyspark\n",
    "import os"
   ]
  },
  {
   "cell_type": "markdown",
   "metadata": {},
   "source": [
    "## Data"
   ]
  },
  {
   "cell_type": "markdown",
   "metadata": {},
   "source": [
    "The data set consists of 11 Million Monte Carlo simulations of nuclear collsions. Signal collisions correspond to collisions where a Higgs boson was created. Background collisions correspond to collisions that have the same end product particles but where a Higgs boson was not created. Each collision has 28 attributes.\n",
    "Data set location: [https://archive.ics.uci.edu/ml/datasets/HIGGS]\n",
    "\n",
    "Relevant Paper: * Baldi, P., P. Sadowski, and D. Whiteson. “Searching for Exotic Particles in High-energy Physics with Deep Learning.” Nature Communications 5 (July 2, 2014) *"
   ]
  },
  {
   "cell_type": "code",
   "execution_count": 3,
   "metadata": {
    "collapsed": true
   },
   "outputs": [],
   "source": [
    "from pyspark.sql import SparkSession\n",
    "\n",
    "spark = SparkSession.builder.appName('higgs-analysis').getOrCreate()"
   ]
  },
  {
   "cell_type": "code",
   "execution_count": 4,
   "metadata": {
    "collapsed": true
   },
   "outputs": [],
   "source": [
    "data_location = os.path.join('resources','HIGGS_subsampled_20k.csv')\n",
    "df = spark.read.load(data_location,\n",
    "                     format=\"csv\", sep=\",\", inferSchema=\"true\", header=\"true\")"
   ]
  },
  {
   "cell_type": "code",
   "execution_count": 5,
   "metadata": {},
   "outputs": [
    {
     "data": {
      "text/plain": [
       "[Row(label=1.0,  lepton pT=0.869293212890625,  lepton eta=-0.6350818276405334,  lepton phi=0.22569026052951813,  missing energy magnitude=0.327470064163208,  missing energy phi=-0.6899932026863098,  jet 1 pt=0.7542022466659546,  jet 1 eta=-0.24857313930988312,  jet 1 phi=-1.0920639038085938,  jet 1 b-tag=0.0,  jet 2 pt=1.3749921321868896,  jet 2 eta=-0.6536741852760315,  jet 2 phi=0.9303491115570068,  jet 2 b-tag=1.1074360609054565,  jet 3 pt=1.138904333114624,  jet 3 eta=-1.5781983137130737,  jet 3 phi=-1.046985387802124,  jet 3 b-tag=0.0,  jet 4 pt=0.657929539680481,  jet 4 eta=-0.010454569943249226,  jet 4 phi=-0.0457671694457531,  jet 4 b-tag=3.101961374282837,  m_jj=1.353760004043579,  m_jjj=0.9795631170272827,  m_lv=0.978076159954071,  m_jlv=0.9200048446655273,  m_bb=0.7216574549674988,  m_wbb=0.9887509346008301,  m_wwbb=0.8766783475875854),\n",
       " Row(label=1.0,  lepton pT=0.9075421094894409,  lepton eta=0.3291472792625427,  lepton phi=0.3594118654727936,  missing energy magnitude=1.4979698657989502,  missing energy phi=-0.3130095303058624,  jet 1 pt=1.09553062915802,  jet 1 eta=-0.5575249195098877,  jet 1 phi=-1.588229775428772,  jet 1 b-tag=2.1730761528015137,  jet 2 pt=0.8125811815261841,  jet 2 eta=-0.2136419266462326,  jet 2 phi=1.2710145711898804,  jet 2 b-tag=2.214872121810913,  jet 3 pt=0.4999939501285553,  jet 3 eta=-1.2614318132400513,  jet 3 phi=0.7321561574935913,  jet 3 b-tag=0.0,  jet 4 pt=0.39870089292526245,  jet 4 eta=-1.138930082321167,  jet 4 phi=-0.0008191101951524615,  jet 4 b-tag=0.0,  m_jj=0.3022198975086212,  m_jjj=0.8330481648445129,  m_lv=0.9856996536254883,  m_jlv=0.9780983924865723,  m_bb=0.7797321677207947,  m_wbb=0.9923557639122009,  m_wwbb=0.7983425855636597)]"
      ]
     },
     "execution_count": 5,
     "metadata": {},
     "output_type": "execute_result"
    }
   ],
   "source": [
    "df.head(2)"
   ]
  },
  {
   "cell_type": "markdown",
   "metadata": {},
   "source": [
    "## Train/Test split"
   ]
  },
  {
   "cell_type": "code",
   "execution_count": 6,
   "metadata": {
    "collapsed": true
   },
   "outputs": [],
   "source": [
    "(training, test) = df.randomSplit([0.7, 0.3])"
   ]
  },
  {
   "cell_type": "code",
   "execution_count": 7,
   "metadata": {},
   "outputs": [
    {
     "data": {
      "text/plain": [
       "(13905, 6095)"
      ]
     },
     "execution_count": 7,
     "metadata": {},
     "output_type": "execute_result"
    }
   ],
   "source": [
    "training.count(), test.count()"
   ]
  },
  {
   "cell_type": "code",
   "execution_count": 9,
   "metadata": {},
   "outputs": [
    {
     "data": {
      "text/plain": [
       "['label',\n",
       " ' lepton pT',\n",
       " ' lepton eta',\n",
       " ' lepton phi',\n",
       " ' missing energy magnitude',\n",
       " ' missing energy phi',\n",
       " ' jet 1 pt',\n",
       " ' jet 1 eta',\n",
       " ' jet 1 phi',\n",
       " ' jet 1 b-tag',\n",
       " ' jet 2 pt',\n",
       " ' jet 2 eta',\n",
       " ' jet 2 phi',\n",
       " ' jet 2 b-tag',\n",
       " ' jet 3 pt',\n",
       " ' jet 3 eta',\n",
       " ' jet 3 phi',\n",
       " ' jet 3 b-tag',\n",
       " ' jet 4 pt',\n",
       " ' jet 4 eta',\n",
       " ' jet 4 phi',\n",
       " ' jet 4 b-tag',\n",
       " ' m_jj',\n",
       " ' m_jjj',\n",
       " ' m_lv',\n",
       " ' m_jlv',\n",
       " ' m_bb',\n",
       " ' m_wbb',\n",
       " ' m_wwbb']"
      ]
     },
     "execution_count": 9,
     "metadata": {},
     "output_type": "execute_result"
    }
   ],
   "source": [
    "training.columns"
   ]
  },
  {
   "cell_type": "code",
   "execution_count": 10,
   "metadata": {},
   "outputs": [
    {
     "name": "stdout",
     "output_type": "stream",
     "text": [
      "+-------+-------------------+\n",
      "|summary|          lepton pT|\n",
      "+-------+-------------------+\n",
      "|  count|              13905|\n",
      "|   mean| 0.9999787547184554|\n",
      "| stddev| 0.5773550185954196|\n",
      "|    min|0.27487966418266296|\n",
      "|    max|  7.000280857086182|\n",
      "+-------+-------------------+\n",
      "\n"
     ]
    }
   ],
   "source": [
    "training.describe(training.columns[1]).show()"
   ]
  },
  {
   "cell_type": "markdown",
   "metadata": {},
   "source": [
    "## Feature Scaling\n",
    "\n",
    "Not required for GBT or Random forrest but done to make it easy to add more classifiers later"
   ]
  },
  {
   "cell_type": "code",
   "execution_count": 11,
   "metadata": {
    "collapsed": true
   },
   "outputs": [],
   "source": [
    "from pyspark.sql.functions import *\n",
    "from pyspark.ml.linalg import DenseVector"
   ]
  },
  {
   "cell_type": "code",
   "execution_count": 13,
   "metadata": {},
   "outputs": [],
   "source": [
    "training_dense = training.rdd.map(lambda x: (x[0], DenseVector(x[1:])))\n",
    "training_dense = spark.createDataFrame(training_dense, [\"label\", \"features\"])"
   ]
  },
  {
   "cell_type": "code",
   "execution_count": 14,
   "metadata": {
    "collapsed": true
   },
   "outputs": [],
   "source": [
    "test_dense = test.rdd.map(lambda x: (x[0], DenseVector(x[1:])))\n",
    "test_dense = spark.createDataFrame(test_dense, [\"label\", \"features\"])"
   ]
  },
  {
   "cell_type": "code",
   "execution_count": 26,
   "metadata": {
    "collapsed": true
   },
   "outputs": [],
   "source": [
    "from pyspark.ml.feature import StandardScaler\n",
    "standardScaler = StandardScaler(inputCol=\"features\", outputCol=\"features_scaled\", withMean=True)"
   ]
  },
  {
   "cell_type": "code",
   "execution_count": 27,
   "metadata": {},
   "outputs": [
    {
     "data": {
      "text/plain": [
       "[Row(label=0.0, features=DenseVector([0.2758, -2.1077, 1.6889, 1.9085, 0.5887, 1.2632, 1.3635, -1.1625, 0.0, 0.5701, 0.6752, -0.7686, 0.0, 1.007, 1.5239, 1.5276, 0.0, 2.206, -0.4685, 0.2762, 3.102, 0.8865, 0.7056, 0.9947, 0.7695, 0.5959, 1.1519, 1.4402]), features_scaled=DenseVector([-1.2543, -2.0959, 1.6617, 1.5468, 0.5985, 0.5684, 1.3339, -1.1475, -0.9728, -0.845, 0.6658, -0.7508, -0.9441, 0.0111, 1.4956, 1.517, -0.8353, 2.3649, -0.4661, 0.2845, 1.5136, -0.2299, -0.841, -0.3392, -0.6088, -0.7169, 0.3146, 1.5237])),\n",
       " Row(label=0.0, features=DenseVector([0.2769, 1.1249, -0.6267, 1.1238, -1.6665, 0.5973, -0.4367, -0.0626, 0.0, 0.5557, -1.2695, -0.7792, 2.2149, 1.3079, -0.2975, 1.0106, 2.5482, 0.4009, -1.6103, -0.392, 0.0, 0.6491, 0.877, 0.9888, 0.7338, 1.0162, 0.6881, 0.6694]), features_scaled=DenseVector([-1.2524, 1.1299, -0.6333, 0.2251, -1.6486, -0.8369, -0.4357, -0.0631, -0.9728, -0.8737, -1.2558, -0.7614, 1.1671, 0.615, -0.308, 1.0015, 1.3002, -1.1534, -1.5957, -0.3793, -0.7135, -0.5851, -0.392, -0.3747, -0.6974, 0.0837, -0.9423, -0.9263]))]"
      ]
     },
     "execution_count": 27,
     "metadata": {},
     "output_type": "execute_result"
    }
   ],
   "source": [
    "scaler = standardScaler.fit(training_dense)\n",
    "scaled_training = scaler.transform(training_dense)\n",
    "scaled_training.take(2)"
   ]
  },
  {
   "cell_type": "code",
   "execution_count": 28,
   "metadata": {},
   "outputs": [
    {
     "data": {
      "text/plain": [
       "[Row(label=0.0, features=DenseVector([0.2809, -1.0276, 1.7355, 0.6845, -1.4089, 0.5, 0.2456, -0.617, 1.0865, 0.5949, 0.8558, 1.0358, 0.0, 0.6447, -0.6388, 0.1874, 2.5482, 0.3722, -1.2888, 1.3744, 0.0, 0.9205, 0.7694, 0.9934, 0.7998, 0.5845, 0.6035, 0.5795]), features_scaled=DenseVector([-1.2454, -1.018, 1.7079, -0.5147, -1.392, -1.0423, 0.2349, -0.6097, 0.0828, -0.7955, 0.8443, 1.0476, -0.9441, -0.7162, -0.646, 0.1807, 1.3002, -1.2094, -1.2776, 1.3755, -0.7135, -0.1791, -0.6738, -0.3473, -0.5336, -0.7384, -1.1714, -1.2122])),\n",
       " Row(label=0.0, features=DenseVector([0.2822, 0.2756, -0.5324, 0.8523, 0.8196, 0.3298, -0.2862, -0.2577, 2.1731, 0.7767, 0.8044, 1.5002, 0.0, 0.6623, 0.4262, -1.5124, 2.5482, 0.9069, 1.0564, -0.3082, 0.0, 1.1181, 0.8894, 0.9888, 0.7355, 0.5731, 0.6595, 0.6316]), features_scaled=DenseVector([-1.2432, 0.2824, -0.5398, -0.2322, 0.8285, -1.4015, -0.2878, -0.2555, 1.1384, -0.4325, 0.7934, 1.5104, -0.9441, -0.6809, 0.4086, -1.5141, 1.3002, -0.1671, 1.0425, -0.296, -0.7135, 0.1167, -0.3596, -0.3752, -0.693, -0.7602, -1.0198, -1.0467]))]"
      ]
     },
     "execution_count": 28,
     "metadata": {},
     "output_type": "execute_result"
    }
   ],
   "source": [
    "scaled_test = scaler.transform(test_dense)\n",
    "scaled_test.take(2)"
   ]
  },
  {
   "cell_type": "markdown",
   "metadata": {},
   "source": [
    "## create model"
   ]
  },
  {
   "cell_type": "code",
   "execution_count": 30,
   "metadata": {
    "collapsed": true
   },
   "outputs": [],
   "source": [
    "from pyspark.mllib.tree import GradientBoostedTrees, GradientBoostedTreesModel\n",
    "from pyspark.mllib.regression import LabeledPoint\n",
    "from pyspark.mllib import linalg as mllib_linalg\n",
    "from pyspark.ml import linalg as ml_linalg"
   ]
  },
  {
   "cell_type": "code",
   "execution_count": 31,
   "metadata": {
    "collapsed": true
   },
   "outputs": [],
   "source": [
    "def as_old(v):\n",
    "    if isinstance(v, ml_linalg.SparseVector):\n",
    "        return mllib_linalg.SparseVector(v.size, v.indices, v.values)\n",
    "    if isinstance(v, ml_linalg.DenseVector):\n",
    "        return mllib_linalg.DenseVector(v.values)\n",
    "    raise ValueError(\"Unsupported type {0}\".format(type(v)))"
   ]
  },
  {
   "cell_type": "code",
   "execution_count": 32,
   "metadata": {},
   "outputs": [
    {
     "data": {
      "text/plain": [
       "[LabeledPoint(0.0, [0.2757946848869324,-2.107722520828247,1.6888595819473267,1.908488154411316,0.5887398719787598,1.263171911239624,1.3635212182998657,-1.162469506263733,0.0,0.5700910091400146,0.6751649379730225,-0.7686452865600586,0.0,1.0070127248764038,1.523929238319397,1.527646541595459,0.0,2.2059988975524902,-0.4685073494911194,0.2761847674846649,3.101961374282837,0.886506974697113,0.7055552005767822,0.9947258234024048,0.7694635391235352,0.5958611369132996,1.1519246101379395,1.440234661102295]),\n",
       " LabeledPoint(0.0, [0.276892751455307,1.1248798370361328,-0.6266821026802063,1.1237695217132568,-1.6664758920669556,0.5972790122032166,-0.43671685457229614,-0.06258609890937805,0.0,0.5557380318641663,-1.2695250511169434,-0.7791869640350342,2.214872121810913,1.3078521490097046,-0.29747843742370605,1.0106332302093506,2.548224449157715,0.40089157223701477,-1.610308051109314,-0.39203202724456787,0.0,0.6491283178329468,0.8770354986190796,0.988837718963623,0.733756959438324,1.0162041187286377,0.6880929470062256,0.6694104671478271])]"
      ]
     },
     "execution_count": 32,
     "metadata": {},
     "output_type": "execute_result"
    }
   ],
   "source": [
    "scaled_labelPoint_train = scaled_training.rdd.map(lambda row: LabeledPoint(row.label, as_old(row.features)))\n",
    "scaled_labelPoint_train.take(2)"
   ]
  },
  {
   "cell_type": "code",
   "execution_count": 35,
   "metadata": {},
   "outputs": [
    {
     "name": "stdout",
     "output_type": "stream",
     "text": [
      "Time elapsed training model: 20.349748849868774 seconds\n"
     ]
    }
   ],
   "source": [
    "#  Notes: (a) Empty categoricalFeaturesInfo indicates all features are continuous.\n",
    "#         (b) Use more iterations in practice.\n",
    "import time\n",
    "train_start = time.time()\n",
    "model = GradientBoostedTrees.trainClassifier(scaled_labelPoint_train,\n",
    "                                             categoricalFeaturesInfo={}, numIterations=10)\n",
    "train_end = time.time()\n",
    "print(f'Time elapsed training model: {train_end - train_start} seconds')"
   ]
  },
  {
   "cell_type": "code",
   "execution_count": 36,
   "metadata": {},
   "outputs": [
    {
     "data": {
      "text/plain": [
       "0.0"
      ]
     },
     "execution_count": 36,
     "metadata": {},
     "output_type": "execute_result"
    }
   ],
   "source": [
    "model.predict(scaled_test.take(1)[0].features.values)"
   ]
  },
  {
   "cell_type": "markdown",
   "metadata": {},
   "source": [
    "## Train model using CV and Grid Search"
   ]
  },
  {
   "cell_type": "code",
   "execution_count": null,
   "metadata": {
    "collapsed": true
   },
   "outputs": [],
   "source": []
  },
  {
   "cell_type": "markdown",
   "metadata": {},
   "source": [
    "## Evaluate model"
   ]
  },
  {
   "cell_type": "code",
   "execution_count": 37,
   "metadata": {},
   "outputs": [
    {
     "name": "stdout",
     "output_type": "stream",
     "text": [
      "Test Error = 0.32748154224774406\n",
      "Learned classification GBT model:\n",
      "TreeEnsembleModel classifier with 10 trees\n",
      "\n",
      "  Tree 0:\n",
      "    If (feature 25 <= 1.1958584785461426)\n",
      "     If (feature 25 <= 0.6043451130390167)\n",
      "      If (feature 27 <= 0.8742782473564148)\n",
      "       Predict: -0.03178206583427923\n",
      "      Else (feature 27 > 0.8742782473564148)\n",
      "       Predict: -0.3333333333333333\n",
      "     Else (feature 25 > 0.6043451130390167)\n",
      "      If (feature 26 <= 0.7800827026367188)\n",
      "       Predict: -0.06046511627906977\n",
      "      Else (feature 26 > 0.7800827026367188)\n",
      "       Predict: 0.33555975025410195\n",
      "    Else (feature 25 > 1.1958584785461426)\n",
      "     If (feature 22 <= 1.0406605005264282)\n",
      "      If (feature 27 <= 1.0255640149116516)\n",
      "       Predict: -0.3010752688172043\n",
      "      Else (feature 27 > 1.0255640149116516)\n",
      "       Predict: -0.6604708798017348\n",
      "     Else (feature 22 > 1.0406605005264282)\n",
      "      If (feature 25 <= 2.182615876197815)\n",
      "       Predict: -0.0777422790202343\n",
      "      Else (feature 25 > 2.182615876197815)\n",
      "       Predict: -0.5942028985507246\n",
      "  Tree 1:\n",
      "    If (feature 27 <= 0.9049348831176758)\n",
      "     If (feature 5 <= 0.8824981153011322)\n",
      "      If (feature 26 <= 0.8724606037139893)\n",
      "       Predict: -0.26805017058990127\n",
      "      Else (feature 26 > 0.8724606037139893)\n",
      "       Predict: 0.30958193813832546\n",
      "     Else (feature 5 > 0.8824981153011322)\n",
      "      If (feature 5 <= 1.4649826288223267)\n",
      "       Predict: 0.5024986024571566\n",
      "      Else (feature 5 > 1.4649826288223267)\n",
      "       Predict: 1.1165673640278224\n",
      "    Else (feature 27 > 0.9049348831176758)\n",
      "     If (feature 24 <= 1.149223506450653)\n",
      "      If (feature 22 <= 1.0587112307548523)\n",
      "       Predict: -0.8832399586144016\n",
      "      Else (feature 22 > 1.0587112307548523)\n",
      "       Predict: -0.013938133986814084\n",
      "     Else (feature 24 > 1.149223506450653)\n",
      "      If (feature 3 <= 1.536896526813507)\n",
      "       Predict: 0.21747967720237885\n",
      "      Else (feature 3 > 1.536896526813507)\n",
      "       Predict: -0.3403935467064104\n",
      "  Tree 2:\n",
      "    If (feature 27 <= 0.8910163044929504)\n",
      "     If (feature 5 <= 0.796204149723053)\n",
      "      If (feature 25 <= 0.9624108970165253)\n",
      "       Predict: 0.013857059404678239\n",
      "      Else (feature 25 > 0.9624108970165253)\n",
      "       Predict: -0.6046114306153526\n",
      "     Else (feature 5 > 0.796204149723053)\n",
      "      If (feature 25 <= 0.9624108970165253)\n",
      "       Predict: 0.5622140927450101\n",
      "      Else (feature 25 > 0.9624108970165253)\n",
      "       Predict: 0.07593789309408325\n",
      "    Else (feature 27 > 0.8910163044929504)\n",
      "     If (feature 24 <= 1.069998025894165)\n",
      "      If (feature 22 <= 1.008613407611847)\n",
      "       Predict: -0.8009561027299155\n",
      "      Else (feature 22 > 1.008613407611847)\n",
      "       Predict: -0.07510728330473701\n",
      "     Else (feature 24 > 1.069998025894165)\n",
      "      If (feature 0 <= 2.3526734113693237)\n",
      "       Predict: 0.07905870623371852\n",
      "      Else (feature 0 > 2.3526734113693237)\n",
      "       Predict: -0.8185773744115172\n",
      "  Tree 3:\n",
      "    If (feature 27 <= 1.0578111410140991)\n",
      "     If (feature 5 <= 0.879200279712677)\n",
      "      If (feature 22 <= 1.0388963222503662)\n",
      "       Predict: -0.202294267999826\n",
      "      Else (feature 22 > 1.0388963222503662)\n",
      "       Predict: 0.3033980172609606\n",
      "     Else (feature 5 > 0.879200279712677)\n",
      "      If (feature 5 <= 2.1506168842315674)\n",
      "       Predict: 0.2712783756424637\n",
      "      Else (feature 5 > 2.1506168842315674)\n",
      "       Predict: 1.2957718826212812\n",
      "    Else (feature 27 > 1.0578111410140991)\n",
      "     If (feature 24 <= 0.9851782321929932)\n",
      "      If (feature 22 <= 1.193060576915741)\n",
      "       Predict: -0.8571251772283284\n",
      "      Else (feature 22 > 1.193060576915741)\n",
      "       Predict: -0.13351883260014102\n",
      "     Else (feature 24 > 0.9851782321929932)\n",
      "      If (feature 3 <= 1.5406046509742737)\n",
      "       Predict: 0.07085518226972147\n",
      "      Else (feature 3 > 1.5406046509742737)\n",
      "       Predict: -0.549409279927014\n",
      "  Tree 4:\n",
      "    If (feature 27 <= 0.8870793879032135)\n",
      "     If (feature 26 <= 0.8721765279769897)\n",
      "      If (feature 9 <= 1.2660855650901794)\n",
      "       Predict: -0.13399992491421867\n",
      "      Else (feature 9 > 1.2660855650901794)\n",
      "       Predict: 0.7051628987714114\n",
      "     Else (feature 26 > 0.8721765279769897)\n",
      "      If (feature 25 <= 0.9928767681121826)\n",
      "       Predict: 0.599944929653532\n",
      "      Else (feature 25 > 0.9928767681121826)\n",
      "       Predict: 0.01973378429707281\n",
      "    Else (feature 27 > 0.8870793879032135)\n",
      "     If (feature 24 <= 1.0094812512397766)\n",
      "      If (feature 22 <= 1.0617748498916626)\n",
      "       Predict: -0.6082644094441781\n",
      "      Else (feature 22 > 1.0617748498916626)\n",
      "       Predict: -0.042660557002811586\n",
      "     Else (feature 24 > 1.0094812512397766)\n",
      "      If (feature 9 <= 1.8062745928764343)\n",
      "       Predict: -0.06067375133215678\n",
      "      Else (feature 9 > 1.8062745928764343)\n",
      "       Predict: 0.5198126581237019\n",
      "  Tree 5:\n",
      "    If (feature 24 <= 0.750923752784729)\n",
      "     If (feature 22 <= 1.0849010348320007)\n",
      "      If (feature 5 <= 0.7980362474918365)\n",
      "       Predict: -0.06688122550947931\n",
      "      Else (feature 5 > 0.7980362474918365)\n",
      "       Predict: 0.3450078225295689\n",
      "     Else (feature 22 > 1.0849010348320007)\n",
      "      If (feature 25 <= 0.294707790017128)\n",
      "       Predict: -0.391251959832373\n",
      "      Else (feature 25 > 0.294707790017128)\n",
      "       Predict: 0.6673382716588282\n",
      "    Else (feature 24 > 0.750923752784729)\n",
      "     If (feature 22 <= 0.7333338558673859)\n",
      "      If (feature 17 <= 0.6219052970409393)\n",
      "       Predict: 0.07364760209962391\n",
      "      Else (feature 17 > 0.6219052970409393)\n",
      "       Predict: 0.5679016228417358\n",
      "     Else (feature 22 > 0.7333338558673859)\n",
      "      If (feature 22 <= 1.0059254169464111)\n",
      "       Predict: -0.24411550801709495\n",
      "      Else (feature 22 > 1.0059254169464111)\n",
      "       Predict: 0.048910218171253975\n",
      "  Tree 6:\n",
      "    If (feature 25 <= 0.9925686120986938)\n",
      "     If (feature 3 <= 1.2320237755775452)\n",
      "      If (feature 5 <= 0.798677533864975)\n",
      "       Predict: 0.02611212342230887\n",
      "      Else (feature 5 > 0.798677533864975)\n",
      "       Predict: 0.3209911268724694\n",
      "     Else (feature 3 > 1.2320237755775452)\n",
      "      If (feature 27 <= 1.0263040661811829)\n",
      "       Predict: -0.004873479871977685\n",
      "      Else (feature 27 > 1.0263040661811829)\n",
      "       Predict: -0.4772836836895473\n",
      "    Else (feature 25 > 0.9925686120986938)\n",
      "     If (feature 25 <= 1.1990464329719543)\n",
      "      If (feature 5 <= 1.0224281549453735)\n",
      "       Predict: -0.7125065441589165\n",
      "      Else (feature 5 > 1.0224281549453735)\n",
      "       Predict: -0.11339829529064348\n",
      "     Else (feature 25 > 1.1990464329719543)\n",
      "      If (feature 24 <= 1.3021366596221924)\n",
      "       Predict: -0.09497104687800738\n",
      "      Else (feature 24 > 1.3021366596221924)\n",
      "       Predict: 0.2757481752961407\n",
      "  Tree 7:\n",
      "    If (feature 27 <= 1.1451372504234314)\n",
      "     If (feature 9 <= 1.2664003372192383)\n",
      "      If (feature 5 <= 1.0584756135940552)\n",
      "       Predict: -0.07939106205226819\n",
      "      Else (feature 5 > 1.0584756135940552)\n",
      "       Predict: 0.25202895508404183\n",
      "     Else (feature 9 > 1.2664003372192383)\n",
      "      If (feature 27 <= 0.8583976030349731)\n",
      "       Predict: 0.552531903193259\n",
      "      Else (feature 27 > 0.8583976030349731)\n",
      "       Predict: 0.2035829461077637\n",
      "    Else (feature 27 > 1.1451372504234314)\n",
      "     If (feature 9 <= 1.8241527676582336)\n",
      "      If (feature 3 <= 2.3099509477615356)\n",
      "       Predict: -0.2816722714460609\n",
      "      Else (feature 3 > 2.3099509477615356)\n",
      "       Predict: -0.9104433307106384\n",
      "     Else (feature 9 > 1.8241527676582336)\n",
      "      If (feature 8 <= 0.5432690382003784)\n",
      "       Predict: 0.6315913370832451\n",
      "      Else (feature 8 > 0.5432690382003784)\n",
      "       Predict: -0.2657612492401674\n",
      "  Tree 8:\n",
      "    If (feature 24 <= 0.7493177354335785)\n",
      "     If (feature 17 <= 1.0720868110656738)\n",
      "      If (feature 25 <= 0.29310907423496246)\n",
      "       Predict: -0.5344497910045848\n",
      "      Else (feature 25 > 0.29310907423496246)\n",
      "       Predict: 0.15627456036478982\n",
      "     Else (feature 17 > 1.0720868110656738)\n",
      "      If (feature 9 <= 0.5315016210079193)\n",
      "       Predict: -0.11378839809889839\n",
      "      Else (feature 9 > 0.5315016210079193)\n",
      "       Predict: 0.5534892069303861\n",
      "    Else (feature 24 > 0.7493177354335785)\n",
      "     If (feature 24 <= 0.9630550444126129)\n",
      "      If (feature 27 <= 0.8578706383705139)\n",
      "       Predict: -0.045375106354325914\n",
      "      Else (feature 27 > 0.8578706383705139)\n",
      "       Predict: -0.43203183043250964\n",
      "     Else (feature 24 > 0.9630550444126129)\n",
      "      If (feature 3 <= 1.5373198986053467)\n",
      "       Predict: 0.1321450500784333\n",
      "      Else (feature 3 > 1.5373198986053467)\n",
      "       Predict: -0.20010385159193042\n",
      "  Tree 9:\n",
      "    If (feature 25 <= 0.9630272090435028)\n",
      "     If (feature 26 <= 0.7304062843322754)\n",
      "      If (feature 27 <= 0.6874028146266937)\n",
      "       Predict: 0.028717578770116638\n",
      "      Else (feature 27 > 0.6874028146266937)\n",
      "       Predict: -0.5470032068965408\n",
      "     Else (feature 26 > 0.7304062843322754)\n",
      "      If (feature 27 <= 0.8569878339767456)\n",
      "       Predict: 0.3291827438287881\n",
      "      Else (feature 27 > 0.8569878339767456)\n",
      "       Predict: -0.038408893064822876\n",
      "    Else (feature 25 > 0.9630272090435028)\n",
      "     If (feature 25 <= 1.2028428316116333)\n",
      "      If (feature 26 <= 0.890153557062149)\n",
      "       Predict: -0.7385413091548717\n",
      "      Else (feature 26 > 0.890153557062149)\n",
      "       Predict: -0.19688374695876787\n",
      "     Else (feature 25 > 1.2028428316116333)\n",
      "      If (feature 22 <= 0.7879256010055542)\n",
      "       Predict: 0.4261607294131027\n",
      "      Else (feature 22 > 0.7879256010055542)\n",
      "       Predict: -0.03855554696705707\n",
      "\n"
     ]
    }
   ],
   "source": [
    "# Evaluate model on test instances and compute test error\n",
    "predictions = model.predict(scaled_test.rdd.map(lambda x: x.features.values))\n",
    "labelsAndPredictions = scaled_test.rdd.map(lambda lp: lp.label).zip(predictions)\n",
    "testErr = labelsAndPredictions.filter(\n",
    "    lambda lp: lp[0] != lp[1]).count() / float(scaled_test.rdd.count())\n",
    "print('Test Error = ' + str(testErr))\n",
    "print('Learned classification GBT model:')\n",
    "print(model.toDebugString())"
   ]
  },
  {
   "cell_type": "code",
   "execution_count": null,
   "metadata": {
    "collapsed": true
   },
   "outputs": [],
   "source": [
    "spark.stop()"
   ]
  },
  {
   "cell_type": "code",
   "execution_count": null,
   "metadata": {
    "collapsed": true
   },
   "outputs": [],
   "source": []
  }
 ],
 "metadata": {
  "kernelspec": {
   "display_name": "Python 3",
   "language": "python",
   "name": "python3"
  },
  "language_info": {
   "codemirror_mode": {
    "name": "ipython",
    "version": 3
   },
   "file_extension": ".py",
   "mimetype": "text/x-python",
   "name": "python",
   "nbconvert_exporter": "python",
   "pygments_lexer": "ipython3",
   "version": "3.6.3"
  }
 },
 "nbformat": 4,
 "nbformat_minor": 2
}
