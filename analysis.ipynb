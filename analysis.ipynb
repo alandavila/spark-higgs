{
 "cells": [
  {
   "cell_type": "code",
   "execution_count": 1,
   "metadata": {
    "collapsed": true
   },
   "outputs": [],
   "source": [
    "import findspark\n",
    "findspark.init()"
   ]
  },
  {
   "cell_type": "code",
   "execution_count": 2,
   "metadata": {
    "collapsed": true
   },
   "outputs": [],
   "source": [
    "import pyspark\n",
    "import os"
   ]
  },
  {
   "cell_type": "markdown",
   "metadata": {},
   "source": [
    "## Data"
   ]
  },
  {
   "cell_type": "markdown",
   "metadata": {},
   "source": [
    "The data set consists of 11 Million Monte Carlo simulations of nuclear collsions. Signal collisions correspond to collisions where a Higgs boson was created. Background collisions correspond to collisions that have the same end product particles but where a Higgs boson was not created. Each collision has 28 attributes.\n",
    "Data set location: [https://archive.ics.uci.edu/ml/datasets/HIGGS]\n",
    "\n",
    "Relevant Paper: * Baldi, P., P. Sadowski, and D. Whiteson. “Searching for Exotic Particles in High-energy Physics with Deep Learning.” Nature Communications 5 (July 2, 2014) *"
   ]
  },
  {
   "cell_type": "code",
   "execution_count": 3,
   "metadata": {
    "collapsed": true
   },
   "outputs": [],
   "source": [
    "from pyspark.sql import SparkSession\n",
    "\n",
    "spark = SparkSession.builder.appName('higgs-analysis').getOrCreate()"
   ]
  },
  {
   "cell_type": "code",
   "execution_count": 4,
   "metadata": {
    "collapsed": true
   },
   "outputs": [],
   "source": [
    "data_location = os.path.join('resources','HIGGS_subsampled_2M.csv')\n",
    "df = spark.read.load(data_location,\n",
    "                     format=\"csv\", sep=\",\", inferSchema=\"true\", header=\"true\")"
   ]
  },
  {
   "cell_type": "code",
   "execution_count": null,
   "metadata": {},
   "outputs": [],
   "source": [
    "df.head(2)"
   ]
  },
  {
   "cell_type": "markdown",
   "metadata": {},
   "source": [
    "## Train/Test split"
   ]
  },
  {
   "cell_type": "code",
   "execution_count": 5,
   "metadata": {
    "collapsed": true
   },
   "outputs": [],
   "source": [
    "(training, test) = df.randomSplit([0.7, 0.3])"
   ]
  },
  {
   "cell_type": "code",
   "execution_count": 6,
   "metadata": {},
   "outputs": [
    {
     "data": {
      "text/plain": [
       "(1400277, 599723)"
      ]
     },
     "execution_count": 6,
     "metadata": {},
     "output_type": "execute_result"
    }
   ],
   "source": [
    "training.count(), test.count()"
   ]
  },
  {
   "cell_type": "code",
   "execution_count": null,
   "metadata": {},
   "outputs": [],
   "source": [
    "training.columns"
   ]
  },
  {
   "cell_type": "code",
   "execution_count": null,
   "metadata": {},
   "outputs": [],
   "source": [
    "training.describe(training.columns[1]).show()"
   ]
  },
  {
   "cell_type": "markdown",
   "metadata": {},
   "source": [
    "## Feature Scaling\n",
    "\n",
    "Not required for GBT or Random forrest but done to make it easy to add more classifiers later"
   ]
  },
  {
   "cell_type": "code",
   "execution_count": 7,
   "metadata": {
    "collapsed": true
   },
   "outputs": [],
   "source": [
    "from pyspark.sql.functions import *\n",
    "from pyspark.ml.linalg import DenseVector"
   ]
  },
  {
   "cell_type": "code",
   "execution_count": 9,
   "metadata": {},
   "outputs": [],
   "source": [
    "training_dense = training.rdd.map(lambda x: (x[0], DenseVector(x[1:])))\n",
    "training_dense = spark.createDataFrame(training_dense, [\"label\", \"features\"])"
   ]
  },
  {
   "cell_type": "code",
   "execution_count": 10,
   "metadata": {
    "collapsed": true
   },
   "outputs": [],
   "source": [
    "test_dense = test.rdd.map(lambda x: (x[0], DenseVector(x[1:])))\n",
    "test_dense = spark.createDataFrame(test_dense, [\"label\", \"features\"])"
   ]
  },
  {
   "cell_type": "code",
   "execution_count": 11,
   "metadata": {
    "collapsed": true
   },
   "outputs": [],
   "source": [
    "from pyspark.ml.feature import StandardScaler\n",
    "standardScaler = StandardScaler(inputCol=\"features\", outputCol=\"features_scaled\", withMean=True)"
   ]
  },
  {
   "cell_type": "code",
   "execution_count": 12,
   "metadata": {},
   "outputs": [
    {
     "data": {
      "text/plain": [
       "[Row(label=0.0, features=DenseVector([0.2747, -1.984, 0.7695, 1.4013, 1.496, 0.9565, 0.3327, -0.0321, 0.0, 0.7049, -0.8722, -1.0061, 2.2149, 0.6468, -0.353, -0.6304, 0.0, 1.0686, -0.2303, 1.3877, 3.102, 0.8953, 0.9776, 0.9931, 0.7897, 0.6978, 0.7528, 0.7791]), features_scaled=DenseVector([-1.2683, -1.9675, 0.7637, 0.6725, 1.487, -0.0719, 0.3298, -0.0329, -0.9748, -0.5752, -0.8647, -0.9993, 1.1582, -0.7095, -0.3511, -0.6255, -0.8377, 0.1645, -0.2272, 1.3794, 1.5037, -0.2063, -0.1238, -0.3495, -0.5536, -0.5248, -0.7688, -0.5773])),\n",
       " Row(label=0.0, features=DenseVector([0.2747, 1.2018, -1.1843, 0.8634, 0.0123, 1.0525, -0.1377, 1.2331, 2.1731, 0.8947, 0.3138, -0.1001, 0.0, 1.0154, -0.1527, -0.6886, 0.0, 1.164, 0.2461, -1.5895, 1.551, 0.8237, 0.8717, 0.9845, 0.9644, 0.7065, 0.8854, 0.7666]), features_scaled=DenseVector([-1.2683, 1.1902, -1.1784, -0.2247, 0.0126, 0.1303, -0.1362, 1.2247, 1.1393, -0.1958, 0.3105, -0.0992, -0.9527, 0.0475, -0.1524, -0.6834, -0.8377, 0.3535, 0.2455, -1.5778, 0.3953, -0.3127, -0.4026, -0.4024, -0.1138, -0.5082, -0.4048, -0.6174]))]"
      ]
     },
     "execution_count": 12,
     "metadata": {},
     "output_type": "execute_result"
    }
   ],
   "source": [
    "scaler = standardScaler.fit(training_dense)\n",
    "scaled_training = scaler.transform(training_dense)\n",
    "scaled_training.take(2)"
   ]
  },
  {
   "cell_type": "code",
   "execution_count": 13,
   "metadata": {},
   "outputs": [
    {
     "data": {
      "text/plain": [
       "[Row(label=0.0, features=DenseVector([0.2747, 1.0226, 0.5963, 2.626, 1.2172, 2.6693, 0.4099, -0.2705, 0.0, 1.4566, -0.9004, 0.583, 0.0, 1.7471, 2.345, 1.4195, 0.0, 2.1904, 1.7551, -1.0302, 0.0, 1.8085, 1.8315, 0.9755, 1.004, 0.6204, 1.7004, 1.702]), features_scaled=DenseVector([-1.2683, 1.0126, 0.5916, 2.7154, 1.21, 3.5367, 0.4063, -0.2698, -0.9748, 0.9278, -0.8926, 0.5793, -0.9527, 1.55, 2.3258, 1.4118, -0.8377, 2.3868, 1.7428, -1.0222, -0.7131, 1.1501, 2.1244, -0.457, -0.0141, -0.6723, 1.8312, 2.3724])),\n",
       " Row(label=0.0, features=DenseVector([0.2749, -1.6139, -1.6815, 1.1242, -0.4629, 1.1079, -0.3288, 1.1643, 2.1731, 0.6779, 0.2973, -1.187, 0.0, 0.5585, -0.556, 0.6656, 0.0, 1.1097, 0.9015, -0.8915, 3.102, 1.0404, 1.0145, 0.9898, 0.7681, 1.4423, 0.9111, 0.7806]), features_scaled=DenseVector([-1.268, -1.6006, -1.6726, 0.2104, -0.4596, 0.2471, -0.3255, 1.1564, 1.1393, -0.6294, 0.2942, -1.179, -0.9527, -0.8909, -0.5525, 0.6626, -0.8377, 0.246, 0.8958, -0.8844, 1.5037, 0.0093, -0.0267, -0.3698, -0.608, 0.8928, -0.3343, -0.5727]))]"
      ]
     },
     "execution_count": 13,
     "metadata": {},
     "output_type": "execute_result"
    }
   ],
   "source": [
    "scaled_test = scaler.transform(test_dense)\n",
    "scaled_test.take(2)"
   ]
  },
  {
   "cell_type": "markdown",
   "metadata": {},
   "source": [
    "## create model"
   ]
  },
  {
   "cell_type": "code",
   "execution_count": 14,
   "metadata": {
    "collapsed": true
   },
   "outputs": [],
   "source": [
    "from pyspark.mllib.tree import GradientBoostedTrees, GradientBoostedTreesModel\n",
    "from pyspark.mllib.regression import LabeledPoint\n",
    "from pyspark.mllib import linalg as mllib_linalg\n",
    "from pyspark.ml import linalg as ml_linalg"
   ]
  },
  {
   "cell_type": "code",
   "execution_count": 15,
   "metadata": {
    "collapsed": true
   },
   "outputs": [],
   "source": [
    "def as_old(v):\n",
    "    if isinstance(v, ml_linalg.SparseVector):\n",
    "        return mllib_linalg.SparseVector(v.size, v.indices, v.values)\n",
    "    if isinstance(v, ml_linalg.DenseVector):\n",
    "        return mllib_linalg.DenseVector(v.values)\n",
    "    raise ValueError(\"Unsupported type {0}\".format(type(v)))"
   ]
  },
  {
   "cell_type": "code",
   "execution_count": 16,
   "metadata": {},
   "outputs": [
    {
     "data": {
      "text/plain": [
       "[LabeledPoint(0.0, [0.2746966481208801,-1.9840284585952759,0.7694543600082397,1.4012621641159058,1.495957612991333,0.9564709663391113,0.33269181847572327,-0.03209567442536354,0.0,0.7049337029457092,-0.8722332715988159,-1.0061124563217163,2.214872121810913,0.6468133926391602,-0.3530036211013794,-0.6303791999816895,0.0,1.0685573816299438,-0.23031991720199585,1.3876736164093018,3.101961374282837,0.8952987790107727,0.9776041507720947,0.9931463003158569,0.7896732687950134,0.6978268623352051,0.7527646422386169,0.7791340947151184]),\n",
       " LabeledPoint(0.0, [0.2746966481208801,1.201823353767395,-1.184317708015442,0.8633654117584229,0.012271969579160213,1.0524753332138062,-0.13766740262508392,1.2330915927886963,2.1730761528015137,0.8946702480316162,0.3138139843940735,-0.10007253289222717,0.0,1.0154426097869873,-0.15274888277053833,-0.6886264085769653,0.0,1.1639729738235474,0.2460549771785736,-1.589535117149353,1.5509806871414185,0.8237000703811646,0.8717207312583923,0.9844738841056824,0.9644151329994202,0.7065122723579407,0.8854154348373413,0.7665694952011108])]"
      ]
     },
     "execution_count": 16,
     "metadata": {},
     "output_type": "execute_result"
    }
   ],
   "source": [
    "scaled_labelPoint_train = scaled_training.rdd.map(lambda row: LabeledPoint(row.label, as_old(row.features)))\n",
    "scaled_labelPoint_train.take(2)"
   ]
  },
  {
   "cell_type": "code",
   "execution_count": 17,
   "metadata": {},
   "outputs": [
    {
     "name": "stdout",
     "output_type": "stream",
     "text": [
      "Time elapsed training model: 349.64889430999756 seconds\n"
     ]
    }
   ],
   "source": [
    "#  Notes: (a) Empty categoricalFeaturesInfo indicates all features are continuous.\n",
    "#         (b) Use more iterations in practice.\n",
    "import time\n",
    "train_start = time.time()\n",
    "model = GradientBoostedTrees.trainClassifier(scaled_labelPoint_train,\n",
    "                                             categoricalFeaturesInfo={}, numIterations=10)\n",
    "train_end = time.time()\n",
    "print(f'Time elapsed training model: {train_end - train_start} seconds')"
   ]
  },
  {
   "cell_type": "code",
   "execution_count": null,
   "metadata": {},
   "outputs": [],
   "source": [
    "model.predict(scaled_test.take(1)[0].features.values)"
   ]
  },
  {
   "cell_type": "markdown",
   "metadata": {},
   "source": [
    "## Train model using CV and Grid Search"
   ]
  },
  {
   "cell_type": "code",
   "execution_count": null,
   "metadata": {
    "collapsed": true
   },
   "outputs": [],
   "source": []
  },
  {
   "cell_type": "markdown",
   "metadata": {},
   "source": [
    "## Evaluate model"
   ]
  },
  {
   "cell_type": "code",
   "execution_count": 18,
   "metadata": {},
   "outputs": [
    {
     "name": "stdout",
     "output_type": "stream",
     "text": [
      "Test Error = 0.3235710486341194\n",
      "Learned classification GBT model:\n",
      "TreeEnsembleModel classifier with 10 trees\n",
      "\n",
      "  Tree 0:\n",
      "    If (feature 25 <= 1.090235412120819)\n",
      "     If (feature 25 <= 0.6411992013454437)\n",
      "      If (feature 27 <= 0.8580954968929291)\n",
      "       Predict: 0.001504319257802084\n",
      "      Else (feature 27 > 0.8580954968929291)\n",
      "       Predict: -0.29039358905555\n",
      "     Else (feature 25 > 0.6411992013454437)\n",
      "      If (feature 26 <= 0.8173975944519043)\n",
      "       Predict: -0.004087017253420937\n",
      "      Else (feature 26 > 0.8173975944519043)\n",
      "       Predict: 0.4107947037971915\n",
      "    Else (feature 25 > 1.090235412120819)\n",
      "     If (feature 22 <= 1.0227294564247131)\n",
      "      If (feature 27 <= 0.9984551668167114)\n",
      "       Predict: -0.2628822729508434\n",
      "      Else (feature 27 > 0.9984551668167114)\n",
      "       Predict: -0.5964422257879202\n",
      "     Else (feature 22 > 1.0227294564247131)\n",
      "      If (feature 25 <= 1.8310698866844177)\n",
      "       Predict: 0.008552113593788178\n",
      "      Else (feature 25 > 1.8310698866844177)\n",
      "       Predict: -0.4192292720903075\n",
      "  Tree 1:\n",
      "    If (feature 27 <= 0.9272014498710632)\n",
      "     If (feature 5 <= 0.9030181467533112)\n",
      "      If (feature 26 <= 0.867503821849823)\n",
      "       Predict: -0.2437756334327903\n",
      "      Else (feature 26 > 0.867503821849823)\n",
      "       Predict: 0.2251916776661872\n",
      "     Else (feature 5 > 0.9030181467533112)\n",
      "      If (feature 5 <= 1.5856293439865112)\n",
      "       Predict: 0.4987059308655121\n",
      "      Else (feature 5 > 1.5856293439865112)\n",
      "       Predict: 1.1449959930410547\n",
      "    Else (feature 27 > 0.9272014498710632)\n",
      "     If (feature 24 <= 1.0407795310020447)\n",
      "      If (feature 22 <= 1.0571390986442566)\n",
      "       Predict: -0.90149726912839\n",
      "      Else (feature 22 > 1.0571390986442566)\n",
      "       Predict: -0.12456792309800084\n",
      "     Else (feature 24 > 1.0407795310020447)\n",
      "      If (feature 3 <= 2.00563907623291)\n",
      "       Predict: 0.09415588443225413\n",
      "      Else (feature 3 > 2.00563907623291)\n",
      "       Predict: -0.5663232796526556\n",
      "  Tree 2:\n",
      "    If (feature 27 <= 0.9089216589927673)\n",
      "     If (feature 5 <= 0.8358242809772491)\n",
      "      If (feature 26 <= 0.7764688730239868)\n",
      "       Predict: -0.34896786101828164\n",
      "      Else (feature 26 > 0.7764688730239868)\n",
      "       Predict: 0.09274303799367942\n",
      "     Else (feature 5 > 0.8358242809772491)\n",
      "      If (feature 5 <= 1.2095816731452942)\n",
      "       Predict: 0.33656496452887885\n",
      "      Else (feature 5 > 1.2095816731452942)\n",
      "       Predict: 0.7332034582245962\n",
      "    Else (feature 27 > 0.9089216589927673)\n",
      "     If (feature 24 <= 1.0124884247779846)\n",
      "      If (feature 22 <= 1.0419711470603943)\n",
      "       Predict: -0.7671743368835503\n",
      "      Else (feature 22 > 1.0419711470603943)\n",
      "       Predict: -0.10859575835149304\n",
      "     Else (feature 24 > 1.0124884247779846)\n",
      "      If (feature 3 <= 2.3606138229370117)\n",
      "       Predict: 0.055470314015562565\n",
      "      Else (feature 3 > 2.3606138229370117)\n",
      "       Predict: -0.678780622392401\n",
      "  Tree 3:\n",
      "    If (feature 27 <= 0.8859365284442902)\n",
      "     If (feature 5 <= 0.8105864524841309)\n",
      "      If (feature 26 <= 0.7555367052555084)\n",
      "       Predict: -0.327641292357298\n",
      "      Else (feature 26 > 0.7555367052555084)\n",
      "       Predict: 0.07563569201293707\n",
      "     Else (feature 5 > 0.8105864524841309)\n",
      "      If (feature 25 <= 0.9949467778205872)\n",
      "       Predict: 0.47741961162460195\n",
      "      Else (feature 25 > 0.9949467778205872)\n",
      "       Predict: 0.07279110023133234\n",
      "    Else (feature 27 > 0.8859365284442902)\n",
      "     If (feature 24 <= 1.0626748204231262)\n",
      "      If (feature 22 <= 1.000605046749115)\n",
      "       Predict: -0.6385113850903441\n",
      "      Else (feature 22 > 1.000605046749115)\n",
      "       Predict: -0.07899084767436775\n",
      "     Else (feature 24 > 1.0626748204231262)\n",
      "      If (feature 5 <= 1.1149972081184387)\n",
      "       Predict: -0.1151570190939222\n",
      "      Else (feature 5 > 1.1149972081184387)\n",
      "       Predict: 0.22747406704249762\n",
      "  Tree 4:\n",
      "    If (feature 27 <= 1.057010531425476)\n",
      "     If (feature 5 <= 0.9806094765663147)\n",
      "      If (feature 25 <= 0.9645915925502777)\n",
      "       Predict: 0.05389304967109078\n",
      "      Else (feature 25 > 0.9645915925502777)\n",
      "       Predict: -0.32480039502286123\n",
      "     Else (feature 5 > 0.9806094765663147)\n",
      "      If (feature 5 <= 1.7617899775505066)\n",
      "       Predict: 0.2803021049627672\n",
      "      Else (feature 5 > 1.7617899775505066)\n",
      "       Predict: 0.8967492599767037\n",
      "    Else (feature 27 > 1.057010531425476)\n",
      "     If (feature 0 <= 1.59739488363266)\n",
      "      If (feature 5 <= 1.7617899775505066)\n",
      "       Predict: -0.21202524938897205\n",
      "      Else (feature 5 > 1.7617899775505066)\n",
      "       Predict: 0.3448509330691376\n",
      "     Else (feature 0 > 1.59739488363266)\n",
      "      If (feature 24 <= 1.0260794162750244)\n",
      "       Predict: -0.9279407515830368\n",
      "      Else (feature 24 > 1.0260794162750244)\n",
      "       Predict: -0.4370230050166285\n",
      "  Tree 5:\n",
      "    If (feature 3 <= 1.5508394241333008)\n",
      "     If (feature 5 <= 0.7662028074264526)\n",
      "      If (feature 9 <= 1.064828872680664)\n",
      "       Predict: -0.20715389572410897\n",
      "      Else (feature 9 > 1.064828872680664)\n",
      "       Predict: 0.20648100904240413\n",
      "     Else (feature 5 > 0.7662028074264526)\n",
      "      If (feature 0 <= 1.303665280342102)\n",
      "       Predict: 0.24525774963905297\n",
      "      Else (feature 0 > 1.303665280342102)\n",
      "       Predict: -0.09897980290104615\n",
      "    Else (feature 3 > 1.5508394241333008)\n",
      "     If (feature 23 <= 1.2145644426345825)\n",
      "      If (feature 3 <= 2.286062717437744)\n",
      "       Predict: -0.2628273481052962\n",
      "      Else (feature 3 > 2.286062717437744)\n",
      "       Predict: -0.6788252452431598\n",
      "     Else (feature 23 > 1.2145644426345825)\n",
      "      If (feature 25 <= 0.6371195614337921)\n",
      "       Predict: 0.47912903815820157\n",
      "      Else (feature 25 > 0.6371195614337921)\n",
      "       Predict: 0.03457021812863606\n",
      "  Tree 6:\n",
      "    If (feature 22 <= 0.7650443613529205)\n",
      "     If (feature 21 <= 0.717717170715332)\n",
      "      If (feature 0 <= 0.681525856256485)\n",
      "       Predict: -0.13756303214527218\n",
      "      Else (feature 0 > 0.681525856256485)\n",
      "       Predict: 0.17809838247208404\n",
      "     Else (feature 21 > 0.717717170715332)\n",
      "      If (feature 27 <= 1.0609875321388245)\n",
      "       Predict: 0.4965331450994571\n",
      "      Else (feature 27 > 1.0609875321388245)\n",
      "       Predict: 0.14234231691070426\n",
      "    Else (feature 22 > 0.7650443613529205)\n",
      "     If (feature 22 <= 0.9888875186443329)\n",
      "      If (feature 24 <= 1.0045658349990845)\n",
      "       Predict: -0.28494684600248316\n",
      "      Else (feature 24 > 1.0045658349990845)\n",
      "       Predict: 3.366126746257671E-4\n",
      "     Else (feature 22 > 0.9888875186443329)\n",
      "      If (feature 27 <= 0.9485891163349152)\n",
      "       Predict: 0.273079989041923\n",
      "      Else (feature 27 > 0.9485891163349152)\n",
      "       Predict: -0.03096400008698712\n",
      "  Tree 7:\n",
      "    If (feature 24 <= 0.7250121831893921)\n",
      "     If (feature 26 <= 0.726392388343811)\n",
      "      If (feature 9 <= 1.026931881904602)\n",
      "       Predict: -0.0970543138094841\n",
      "      Else (feature 9 > 1.026931881904602)\n",
      "       Predict: 0.47069615077817856\n",
      "     Else (feature 26 > 0.726392388343811)\n",
      "      If (feature 25 <= 0.9337820708751678)\n",
      "       Predict: 0.5125174715992062\n",
      "      Else (feature 25 > 0.9337820708751678)\n",
      "       Predict: 0.08480543517735233\n",
      "    Else (feature 24 > 0.7250121831893921)\n",
      "     If (feature 24 <= 0.9794047474861145)\n",
      "      If (feature 27 <= 0.8727736473083496)\n",
      "       Predict: -0.049797097883903914\n",
      "      Else (feature 27 > 0.8727736473083496)\n",
      "       Predict: -0.39624585842450893\n",
      "     Else (feature 24 > 0.9794047474861145)\n",
      "      If (feature 22 <= 0.8073286712169647)\n",
      "       Predict: 0.33344597720321417\n",
      "      Else (feature 22 > 0.8073286712169647)\n",
      "       Predict: 0.014249522579668127\n",
      "  Tree 8:\n",
      "    If (feature 3 <= 1.2856318950653076)\n",
      "     If (feature 5 <= 1.051192820072174)\n",
      "      If (feature 25 <= 0.9452817738056183)\n",
      "       Predict: 0.08315936221961022\n",
      "      Else (feature 25 > 0.9452817738056183)\n",
      "       Predict: -0.22056307582621015\n",
      "     Else (feature 5 > 1.051192820072174)\n",
      "      If (feature 0 <= 1.9267197251319885)\n",
      "       Predict: 0.3051024206564329\n",
      "      Else (feature 0 > 1.9267197251319885)\n",
      "       Predict: -0.2892187070219845\n",
      "    Else (feature 3 > 1.2856318950653076)\n",
      "     If (feature 23 <= 1.2197309136390686)\n",
      "      If (feature 3 <= 2.3236775398254395)\n",
      "       Predict: -0.18025005892741952\n",
      "      Else (feature 3 > 2.3236775398254395)\n",
      "       Predict: -0.575706341607389\n",
      "     Else (feature 23 > 1.2197309136390686)\n",
      "      If (feature 27 <= 1.102805733680725)\n",
      "       Predict: 0.2401301689005736\n",
      "      Else (feature 27 > 1.102805733680725)\n",
      "       Predict: -0.10890088135599271\n",
      "  Tree 9:\n",
      "    If (feature 27 <= 0.9536757171154022)\n",
      "     If (feature 26 <= 0.87388676404953)\n",
      "      If (feature 25 <= 0.9134254455566406)\n",
      "       Predict: 0.026530715019651062\n",
      "      Else (feature 25 > 0.9134254455566406)\n",
      "       Predict: -0.4504230450358023\n",
      "     Else (feature 26 > 0.87388676404953)\n",
      "      If (feature 25 <= 0.9989802241325378)\n",
      "       Predict: 0.343952420327978\n",
      "      Else (feature 25 > 0.9989802241325378)\n",
      "       Predict: 0.0016722106960242887\n",
      "    Else (feature 27 > 0.9536757171154022)\n",
      "     If (feature 24 <= 1.1064473390579224)\n",
      "      If (feature 22 <= 1.110634446144104)\n",
      "       Predict: -0.48640605195046244\n",
      "      Else (feature 22 > 1.110634446144104)\n",
      "       Predict: 0.01592433217102794\n",
      "     Else (feature 24 > 1.1064473390579224)\n",
      "      If (feature 25 <= 1.0921671986579895)\n",
      "       Predict: -0.14026299711653042\n",
      "      Else (feature 25 > 1.0921671986579895)\n",
      "       Predict: 0.23783159897908798\n",
      "\n"
     ]
    }
   ],
   "source": [
    "# Evaluate model on test instances and compute test error\n",
    "predictions = model.predict(scaled_test.rdd.map(lambda x: x.features.values))\n",
    "labelsAndPredictions = scaled_test.rdd.map(lambda lp: lp.label).zip(predictions)\n",
    "testErr = labelsAndPredictions.filter(\n",
    "    lambda lp: lp[0] != lp[1]).count() / float(scaled_test.rdd.count())\n",
    "print('Test Error = ' + str(testErr))\n",
    "print('Learned classification GBT model:')\n",
    "print(model.toDebugString())"
   ]
  },
  {
   "cell_type": "code",
   "execution_count": null,
   "metadata": {
    "collapsed": true
   },
   "outputs": [],
   "source": [
    "spark.stop()"
   ]
  },
  {
   "cell_type": "code",
   "execution_count": null,
   "metadata": {
    "collapsed": true
   },
   "outputs": [],
   "source": []
  }
 ],
 "metadata": {
  "kernelspec": {
   "display_name": "Python 3",
   "language": "python",
   "name": "python3"
  },
  "language_info": {
   "codemirror_mode": {
    "name": "ipython",
    "version": 3
   },
   "file_extension": ".py",
   "mimetype": "text/x-python",
   "name": "python",
   "nbconvert_exporter": "python",
   "pygments_lexer": "ipython3",
   "version": "3.6.3"
  }
 },
 "nbformat": 4,
 "nbformat_minor": 2
}
